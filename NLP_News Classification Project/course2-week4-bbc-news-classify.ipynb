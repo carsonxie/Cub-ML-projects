{
 "cells": [
  {
   "cell_type": "code",
   "execution_count": 1,
   "id": "106510e0",
   "metadata": {
    "_cell_guid": "b1076dfc-b9ad-4769-8c92-a6c4dae69d19",
    "_uuid": "8f2839f25d086af736a60e9eeb907d3b93b6e0e5",
    "execution": {
     "iopub.execute_input": "2022-04-13T02:01:59.504325Z",
     "iopub.status.busy": "2022-04-13T02:01:59.503064Z",
     "iopub.status.idle": "2022-04-13T02:01:59.516142Z",
     "shell.execute_reply": "2022-04-13T02:01:59.516698Z",
     "shell.execute_reply.started": "2022-04-13T01:07:25.289064Z"
    },
    "papermill": {
     "duration": 0.052336,
     "end_time": "2022-04-13T02:01:59.517012",
     "exception": false,
     "start_time": "2022-04-13T02:01:59.464676",
     "status": "completed"
    },
    "tags": []
   },
   "outputs": [
    {
     "name": "stdout",
     "output_type": "stream",
     "text": [
      "/kaggle/input/learn-ai-bbc/BBC News Train.csv\n",
      "/kaggle/input/learn-ai-bbc/BBC News Sample Solution.csv\n",
      "/kaggle/input/learn-ai-bbc/BBC News Test.csv\n"
     ]
    }
   ],
   "source": [
    "import os\n",
    "for dirname, _, filenames in os.walk('/kaggle/input'):\n",
    "    for filename in filenames:\n",
    "        print(os.path.join(dirname, filename))\n",
    "\n",
    "# You can write up to 20GB to the current directory (/kaggle/working/) that gets preserved as output when you create a version using \"Save & Run All\" \n",
    "# You can also write temporary files to /kaggle/temp/, but they won't be saved outside of the current session"
   ]
  },
  {
   "cell_type": "code",
   "execution_count": 2,
   "id": "61ad3d31",
   "metadata": {
    "execution": {
     "iopub.execute_input": "2022-04-13T02:01:59.589368Z",
     "iopub.status.busy": "2022-04-13T02:01:59.588675Z",
     "iopub.status.idle": "2022-04-13T02:02:01.398179Z",
     "shell.execute_reply": "2022-04-13T02:02:01.397609Z",
     "shell.execute_reply.started": "2022-04-13T01:07:25.468290Z"
    },
    "papermill": {
     "duration": 1.845963,
     "end_time": "2022-04-13T02:02:01.398346",
     "exception": false,
     "start_time": "2022-04-13T02:01:59.552383",
     "status": "completed"
    },
    "tags": []
   },
   "outputs": [],
   "source": [
    "import numpy as np # linear algebra\n",
    "import pandas as pd # data processing, CSV file I/O (e.g. pd.read_csv)\n",
    "import seaborn as sns\n",
    "import matplotlib\n",
    "import matplotlib.pyplot as plt\n",
    "\n",
    "from sklearn.metrics import confusion_matrix\n",
    "from sklearn.model_selection import train_test_split\n",
    "from sklearn.metrics import roc_curve, auc, roc_auc_score, classification_report, accuracy_score\n",
    "plt.style.use('ggplot')\n",
    "from sklearn.metrics import rand_score,mutual_info_score,jaccard_score,fowlkes_mallows_score\n",
    "\n",
    "#nlp related\n",
    "from nltk.corpus import stopwords\n",
    "from nltk.util import ngrams\n",
    "from sklearn.feature_extraction.text import CountVectorizer\n",
    "import re\n",
    "import string\n",
    "from sklearn import feature_extraction, linear_model, model_selection, preprocessing\n",
    "\n",
    "\n",
    "from collections import  Counter\n",
    "from collections import defaultdict\n",
    "\n",
    "np.random.seed(42)\n"
   ]
  },
  {
   "cell_type": "code",
   "execution_count": 3,
   "id": "47a25f28",
   "metadata": {
    "execution": {
     "iopub.execute_input": "2022-04-13T02:02:01.473909Z",
     "iopub.status.busy": "2022-04-13T02:02:01.473099Z",
     "iopub.status.idle": "2022-04-13T02:02:01.630395Z",
     "shell.execute_reply": "2022-04-13T02:02:01.630911Z",
     "shell.execute_reply.started": "2022-04-13T01:07:27.392279Z"
    },
    "papermill": {
     "duration": 0.197755,
     "end_time": "2022-04-13T02:02:01.631080",
     "exception": false,
     "start_time": "2022-04-13T02:02:01.433325",
     "status": "completed"
    },
    "tags": []
   },
   "outputs": [
    {
     "name": "stdout",
     "output_type": "stream",
     "text": [
      "train set shape:  (1490, 3)\n",
      "test set shape: (735, 2)\n"
     ]
    },
    {
     "data": {
      "text/html": [
       "<div>\n",
       "<style scoped>\n",
       "    .dataframe tbody tr th:only-of-type {\n",
       "        vertical-align: middle;\n",
       "    }\n",
       "\n",
       "    .dataframe tbody tr th {\n",
       "        vertical-align: top;\n",
       "    }\n",
       "\n",
       "    .dataframe thead th {\n",
       "        text-align: right;\n",
       "    }\n",
       "</style>\n",
       "<table border=\"1\" class=\"dataframe\">\n",
       "  <thead>\n",
       "    <tr style=\"text-align: right;\">\n",
       "      <th></th>\n",
       "      <th>ArticleId</th>\n",
       "      <th>Text</th>\n",
       "      <th>Category</th>\n",
       "    </tr>\n",
       "  </thead>\n",
       "  <tbody>\n",
       "    <tr>\n",
       "      <th>0</th>\n",
       "      <td>1833</td>\n",
       "      <td>worldcom ex-boss launches defence lawyers defe...</td>\n",
       "      <td>business</td>\n",
       "    </tr>\n",
       "    <tr>\n",
       "      <th>1</th>\n",
       "      <td>154</td>\n",
       "      <td>german business confidence slides german busin...</td>\n",
       "      <td>business</td>\n",
       "    </tr>\n",
       "    <tr>\n",
       "      <th>2</th>\n",
       "      <td>1101</td>\n",
       "      <td>bbc poll indicates economic gloom citizens in ...</td>\n",
       "      <td>business</td>\n",
       "    </tr>\n",
       "    <tr>\n",
       "      <th>3</th>\n",
       "      <td>1976</td>\n",
       "      <td>lifestyle  governs mobile choice  faster  bett...</td>\n",
       "      <td>tech</td>\n",
       "    </tr>\n",
       "    <tr>\n",
       "      <th>4</th>\n",
       "      <td>917</td>\n",
       "      <td>enron bosses in $168m payout eighteen former e...</td>\n",
       "      <td>business</td>\n",
       "    </tr>\n",
       "  </tbody>\n",
       "</table>\n",
       "</div>"
      ],
      "text/plain": [
       "   ArticleId                                               Text  Category\n",
       "0       1833  worldcom ex-boss launches defence lawyers defe...  business\n",
       "1        154  german business confidence slides german busin...  business\n",
       "2       1101  bbc poll indicates economic gloom citizens in ...  business\n",
       "3       1976  lifestyle  governs mobile choice  faster  bett...      tech\n",
       "4        917  enron bosses in $168m payout eighteen former e...  business"
      ]
     },
     "execution_count": 3,
     "metadata": {},
     "output_type": "execute_result"
    }
   ],
   "source": [
    "#Load the data using pandas : Create a DataFrame named df, that contains the training data \n",
    "df = pd.read_csv('../input/learn-ai-bbc/BBC News Train.csv')\n",
    "df_submit = pd.read_csv('../input/learn-ai-bbc/BBC News Test.csv')\n",
    "print('train set shape: ', df.shape)\n",
    "print('test set shape:', df_submit.shape)\n",
    "df.head()"
   ]
  },
  {
   "cell_type": "markdown",
   "id": "97a2cf9e",
   "metadata": {
    "papermill": {
     "duration": 0.035397,
     "end_time": "2022-04-13T02:02:01.701507",
     "exception": false,
     "start_time": "2022-04-13T02:02:01.666110",
     "status": "completed"
    },
    "tags": []
   },
   "source": [
    "### Step 1 \n",
    "Extracting word features and show Exploratory Data Analysis (EDA) — Inspect, Visualize and Clean the Data"
   ]
  },
  {
   "cell_type": "code",
   "execution_count": 4,
   "id": "276692c0",
   "metadata": {
    "execution": {
     "iopub.execute_input": "2022-04-13T02:02:01.775357Z",
     "iopub.status.busy": "2022-04-13T02:02:01.774656Z",
     "iopub.status.idle": "2022-04-13T02:02:01.800232Z",
     "shell.execute_reply": "2022-04-13T02:02:01.799448Z",
     "shell.execute_reply.started": "2022-04-13T01:07:27.576016Z"
    },
    "papermill": {
     "duration": 0.063405,
     "end_time": "2022-04-13T02:02:01.800383",
     "exception": false,
     "start_time": "2022-04-13T02:02:01.736978",
     "status": "completed"
    },
    "tags": []
   },
   "outputs": [
    {
     "data": {
      "text/html": [
       "<div>\n",
       "<style scoped>\n",
       "    .dataframe tbody tr th:only-of-type {\n",
       "        vertical-align: middle;\n",
       "    }\n",
       "\n",
       "    .dataframe tbody tr th {\n",
       "        vertical-align: top;\n",
       "    }\n",
       "\n",
       "    .dataframe thead th {\n",
       "        text-align: right;\n",
       "    }\n",
       "</style>\n",
       "<table border=\"1\" class=\"dataframe\">\n",
       "  <thead>\n",
       "    <tr style=\"text-align: right;\">\n",
       "      <th></th>\n",
       "      <th>ArticleId</th>\n",
       "      <th>Text</th>\n",
       "      <th>Category</th>\n",
       "      <th>target</th>\n",
       "    </tr>\n",
       "  </thead>\n",
       "  <tbody>\n",
       "    <tr>\n",
       "      <th>0</th>\n",
       "      <td>1833</td>\n",
       "      <td>worldcom ex-boss launches defence lawyers defe...</td>\n",
       "      <td>business</td>\n",
       "      <td>0</td>\n",
       "    </tr>\n",
       "    <tr>\n",
       "      <th>1</th>\n",
       "      <td>154</td>\n",
       "      <td>german business confidence slides german busin...</td>\n",
       "      <td>business</td>\n",
       "      <td>0</td>\n",
       "    </tr>\n",
       "    <tr>\n",
       "      <th>2</th>\n",
       "      <td>1101</td>\n",
       "      <td>bbc poll indicates economic gloom citizens in ...</td>\n",
       "      <td>business</td>\n",
       "      <td>0</td>\n",
       "    </tr>\n",
       "    <tr>\n",
       "      <th>3</th>\n",
       "      <td>1976</td>\n",
       "      <td>lifestyle  governs mobile choice  faster  bett...</td>\n",
       "      <td>tech</td>\n",
       "      <td>4</td>\n",
       "    </tr>\n",
       "    <tr>\n",
       "      <th>4</th>\n",
       "      <td>917</td>\n",
       "      <td>enron bosses in $168m payout eighteen former e...</td>\n",
       "      <td>business</td>\n",
       "      <td>0</td>\n",
       "    </tr>\n",
       "    <tr>\n",
       "      <th>...</th>\n",
       "      <td>...</td>\n",
       "      <td>...</td>\n",
       "      <td>...</td>\n",
       "      <td>...</td>\n",
       "    </tr>\n",
       "    <tr>\n",
       "      <th>1485</th>\n",
       "      <td>857</td>\n",
       "      <td>double eviction from big brother model caprice...</td>\n",
       "      <td>entertainment</td>\n",
       "      <td>1</td>\n",
       "    </tr>\n",
       "    <tr>\n",
       "      <th>1486</th>\n",
       "      <td>325</td>\n",
       "      <td>dj double act revamp chart show dj duo jk and ...</td>\n",
       "      <td>entertainment</td>\n",
       "      <td>1</td>\n",
       "    </tr>\n",
       "    <tr>\n",
       "      <th>1487</th>\n",
       "      <td>1590</td>\n",
       "      <td>weak dollar hits reuters revenues at media gro...</td>\n",
       "      <td>business</td>\n",
       "      <td>0</td>\n",
       "    </tr>\n",
       "    <tr>\n",
       "      <th>1488</th>\n",
       "      <td>1587</td>\n",
       "      <td>apple ipod family expands market apple has exp...</td>\n",
       "      <td>tech</td>\n",
       "      <td>4</td>\n",
       "    </tr>\n",
       "    <tr>\n",
       "      <th>1489</th>\n",
       "      <td>538</td>\n",
       "      <td>santy worm makes unwelcome visit thousands of ...</td>\n",
       "      <td>tech</td>\n",
       "      <td>4</td>\n",
       "    </tr>\n",
       "  </tbody>\n",
       "</table>\n",
       "<p>1490 rows × 4 columns</p>\n",
       "</div>"
      ],
      "text/plain": [
       "      ArticleId                                               Text  \\\n",
       "0          1833  worldcom ex-boss launches defence lawyers defe...   \n",
       "1           154  german business confidence slides german busin...   \n",
       "2          1101  bbc poll indicates economic gloom citizens in ...   \n",
       "3          1976  lifestyle  governs mobile choice  faster  bett...   \n",
       "4           917  enron bosses in $168m payout eighteen former e...   \n",
       "...         ...                                                ...   \n",
       "1485        857  double eviction from big brother model caprice...   \n",
       "1486        325  dj double act revamp chart show dj duo jk and ...   \n",
       "1487       1590  weak dollar hits reuters revenues at media gro...   \n",
       "1488       1587  apple ipod family expands market apple has exp...   \n",
       "1489        538  santy worm makes unwelcome visit thousands of ...   \n",
       "\n",
       "           Category  target  \n",
       "0          business       0  \n",
       "1          business       0  \n",
       "2          business       0  \n",
       "3              tech       4  \n",
       "4          business       0  \n",
       "...             ...     ...  \n",
       "1485  entertainment       1  \n",
       "1486  entertainment       1  \n",
       "1487       business       0  \n",
       "1488           tech       4  \n",
       "1489           tech       4  \n",
       "\n",
       "[1490 rows x 4 columns]"
      ]
     },
     "execution_count": 4,
     "metadata": {},
     "output_type": "execute_result"
    }
   ],
   "source": [
    "#df['target'] = df['Category'].astype('category').cat.codes\n",
    "id_category_mapping = {\n",
    "  \"business\" : 0,\n",
    "  \"entertainment\" : 1,\n",
    "  \"politics\" : 2,\n",
    "  \"sport\" : 3,\n",
    "  \"tech\" : 4\n",
    "}\n",
    "df[\"target\"] = df[\"Category\"].map(id_category_mapping)\n",
    "df"
   ]
  },
  {
   "cell_type": "code",
   "execution_count": 5,
   "id": "857fb8cf",
   "metadata": {
    "execution": {
     "iopub.execute_input": "2022-04-13T02:02:01.878912Z",
     "iopub.status.busy": "2022-04-13T02:02:01.878223Z",
     "iopub.status.idle": "2022-04-13T02:02:02.094944Z",
     "shell.execute_reply": "2022-04-13T02:02:02.095488Z",
     "shell.execute_reply.started": "2022-04-13T01:07:27.604217Z"
    },
    "papermill": {
     "duration": 0.257178,
     "end_time": "2022-04-13T02:02:02.095672",
     "exception": false,
     "start_time": "2022-04-13T02:02:01.838494",
     "status": "completed"
    },
    "tags": []
   },
   "outputs": [
    {
     "name": "stdout",
     "output_type": "stream",
     "text": [
      "sport            346\n",
      "business         336\n",
      "politics         274\n",
      "entertainment    273\n",
      "tech             261\n",
      "Name: Category, dtype: int64\n"
     ]
    },
    {
     "data": {
      "text/plain": [
       "Text(0.5, 0, 'Class type')"
      ]
     },
     "execution_count": 5,
     "metadata": {},
     "output_type": "execute_result"
    },
    {
     "data": {
      "image/png": "[encoded data removed]",
      "text/plain": [
       "<Figure size 432x288 with 1 Axes>"
      ]
     },
     "metadata": {},
     "output_type": "display_data"
    }
   ],
   "source": [
    "count = df.Category.value_counts()\n",
    "sns.barplot(x=count.index, y=count) #, color='#CFB87C'\n",
    "print(count)\n",
    "plt.ylabel(\"Count\")\n",
    "plt.xlabel(\"Class type\")"
   ]
  },
  {
   "cell_type": "markdown",
   "id": "a01ef74e",
   "metadata": {
    "papermill": {
     "duration": 0.037099,
     "end_time": "2022-04-13T02:02:02.171812",
     "exception": false,
     "start_time": "2022-04-13T02:02:02.134713",
     "status": "completed"
    },
    "tags": []
   },
   "source": [
    "### Text cleaning common practice\n",
    "1. Removing/Retaining Stopwords\n",
    "2. Lemmatizing/Stemming\n",
    "3. Spell correction\n",
    "4. Removing special symbols like urls, emoji, "
   ]
  },
  {
   "cell_type": "code",
   "execution_count": 6,
   "id": "c24f9a5d",
   "metadata": {
    "execution": {
     "iopub.execute_input": "2022-04-13T02:02:02.254885Z",
     "iopub.status.busy": "2022-04-13T02:02:02.254072Z",
     "iopub.status.idle": "2022-04-13T02:02:02.586735Z",
     "shell.execute_reply": "2022-04-13T02:02:02.586179Z",
     "shell.execute_reply.started": "2022-04-13T01:07:27.887360Z"
    },
    "papermill": {
     "duration": 0.377512,
     "end_time": "2022-04-13T02:02:02.586881",
     "exception": false,
     "start_time": "2022-04-13T02:02:02.209369",
     "status": "completed"
    },
    "tags": []
   },
   "outputs": [
    {
     "data": {
      "text/html": [
       "<div>\n",
       "<style scoped>\n",
       "    .dataframe tbody tr th:only-of-type {\n",
       "        vertical-align: middle;\n",
       "    }\n",
       "\n",
       "    .dataframe tbody tr th {\n",
       "        vertical-align: top;\n",
       "    }\n",
       "\n",
       "    .dataframe thead th {\n",
       "        text-align: right;\n",
       "    }\n",
       "</style>\n",
       "<table border=\"1\" class=\"dataframe\">\n",
       "  <thead>\n",
       "    <tr style=\"text-align: right;\">\n",
       "      <th></th>\n",
       "      <th>ArticleId</th>\n",
       "      <th>Text</th>\n",
       "      <th>Category</th>\n",
       "      <th>target</th>\n",
       "    </tr>\n",
       "  </thead>\n",
       "  <tbody>\n",
       "    <tr>\n",
       "      <th>0</th>\n",
       "      <td>1833</td>\n",
       "      <td>worldcom ex  boss launches defence lawyers def...</td>\n",
       "      <td>business</td>\n",
       "      <td>0</td>\n",
       "    </tr>\n",
       "    <tr>\n",
       "      <th>1</th>\n",
       "      <td>154</td>\n",
       "      <td>german business confidence slides german busin...</td>\n",
       "      <td>business</td>\n",
       "      <td>0</td>\n",
       "    </tr>\n",
       "    <tr>\n",
       "      <th>2</th>\n",
       "      <td>1101</td>\n",
       "      <td>bbc poll indicates economic gloom citizens in ...</td>\n",
       "      <td>business</td>\n",
       "      <td>0</td>\n",
       "    </tr>\n",
       "    <tr>\n",
       "      <th>3</th>\n",
       "      <td>1976</td>\n",
       "      <td>lifestyle  governs mobile choice  faster  bett...</td>\n",
       "      <td>tech</td>\n",
       "      <td>4</td>\n",
       "    </tr>\n",
       "    <tr>\n",
       "      <th>4</th>\n",
       "      <td>917</td>\n",
       "      <td>enron bosses in   168m payout eighteen former ...</td>\n",
       "      <td>business</td>\n",
       "      <td>0</td>\n",
       "    </tr>\n",
       "    <tr>\n",
       "      <th>...</th>\n",
       "      <td>...</td>\n",
       "      <td>...</td>\n",
       "      <td>...</td>\n",
       "      <td>...</td>\n",
       "    </tr>\n",
       "    <tr>\n",
       "      <th>1485</th>\n",
       "      <td>857</td>\n",
       "      <td>double eviction from big brother model caprice...</td>\n",
       "      <td>entertainment</td>\n",
       "      <td>1</td>\n",
       "    </tr>\n",
       "    <tr>\n",
       "      <th>1486</th>\n",
       "      <td>325</td>\n",
       "      <td>dj double act revamp chart show dj duo jk and ...</td>\n",
       "      <td>entertainment</td>\n",
       "      <td>1</td>\n",
       "    </tr>\n",
       "    <tr>\n",
       "      <th>1487</th>\n",
       "      <td>1590</td>\n",
       "      <td>weak dollar hits reuters revenues at media gro...</td>\n",
       "      <td>business</td>\n",
       "      <td>0</td>\n",
       "    </tr>\n",
       "    <tr>\n",
       "      <th>1488</th>\n",
       "      <td>1587</td>\n",
       "      <td>apple ipod family expands market apple has exp...</td>\n",
       "      <td>tech</td>\n",
       "      <td>4</td>\n",
       "    </tr>\n",
       "    <tr>\n",
       "      <th>1489</th>\n",
       "      <td>538</td>\n",
       "      <td>santy worm makes unwelcome visit thousands of ...</td>\n",
       "      <td>tech</td>\n",
       "      <td>4</td>\n",
       "    </tr>\n",
       "  </tbody>\n",
       "</table>\n",
       "<p>1490 rows × 4 columns</p>\n",
       "</div>"
      ],
      "text/plain": [
       "      ArticleId                                               Text  \\\n",
       "0          1833  worldcom ex  boss launches defence lawyers def...   \n",
       "1           154  german business confidence slides german busin...   \n",
       "2          1101  bbc poll indicates economic gloom citizens in ...   \n",
       "3          1976  lifestyle  governs mobile choice  faster  bett...   \n",
       "4           917  enron bosses in   168m payout eighteen former ...   \n",
       "...         ...                                                ...   \n",
       "1485        857  double eviction from big brother model caprice...   \n",
       "1486        325  dj double act revamp chart show dj duo jk and ...   \n",
       "1487       1590  weak dollar hits reuters revenues at media gro...   \n",
       "1488       1587  apple ipod family expands market apple has exp...   \n",
       "1489        538  santy worm makes unwelcome visit thousands of ...   \n",
       "\n",
       "           Category  target  \n",
       "0          business       0  \n",
       "1          business       0  \n",
       "2          business       0  \n",
       "3              tech       4  \n",
       "4          business       0  \n",
       "...             ...     ...  \n",
       "1485  entertainment       1  \n",
       "1486  entertainment       1  \n",
       "1487       business       0  \n",
       "1488           tech       4  \n",
       "1489           tech       4  \n",
       "\n",
       "[1490 rows x 4 columns]"
      ]
     },
     "execution_count": 6,
     "metadata": {},
     "output_type": "execute_result"
    }
   ],
   "source": [
    "def clean_text(text):\n",
    "    # punctuations and special characters\n",
    "    punctuations = '@#!?+&*[]-%.:/();$£￥=><|{}^' + \"'`\"\n",
    "    for p in punctuations:\n",
    "        text = text.replace(p, f' {p} ')\n",
    "    \n",
    "    #\n",
    "    table = str.maketrans('','',string.punctuation)\n",
    "    text = text.translate(table)\n",
    "        \n",
    "        \n",
    "    return text\n",
    "\n",
    "df['Text'] = df['Text'].apply(lambda s : clean_text(s))\n",
    "df_submit['Text'] = df_submit['Text'].apply(lambda s : clean_text(s))\n",
    "\n",
    "df"
   ]
  },
  {
   "cell_type": "markdown",
   "id": "fcc9b9e7",
   "metadata": {
    "papermill": {
     "duration": 0.037495,
     "end_time": "2022-04-13T02:02:02.662242",
     "exception": false,
     "start_time": "2022-04-13T02:02:02.624747",
     "status": "completed"
    },
    "tags": []
   },
   "source": [
    "Creat corpus, a list contain all words in datasets. Then count and plot most common stop words."
   ]
  },
  {
   "cell_type": "code",
   "execution_count": 7,
   "id": "f7a71709",
   "metadata": {
    "execution": {
     "iopub.execute_input": "2022-04-13T02:02:02.748018Z",
     "iopub.status.busy": "2022-04-13T02:02:02.747295Z",
     "iopub.status.idle": "2022-04-13T02:02:02.993632Z",
     "shell.execute_reply": "2022-04-13T02:02:02.994254Z",
     "shell.execute_reply.started": "2022-04-13T01:07:28.234513Z"
    },
    "papermill": {
     "duration": 0.293381,
     "end_time": "2022-04-13T02:02:02.994440",
     "exception": false,
     "start_time": "2022-04-13T02:02:02.701059",
     "status": "completed"
    },
    "tags": []
   },
   "outputs": [],
   "source": [
    "def create_corpus(category, df):\n",
    "    corpus=[]\n",
    "    \n",
    "    if category is None:\n",
    "        for x in df['Text'].str.split():\n",
    "            for i in x:\n",
    "                corpus.append(i)\n",
    "        \n",
    "    else:\n",
    "        for x in df[df['Category']==category]['Text'].str.split():\n",
    "            for i in x:\n",
    "                corpus.append(i)\n",
    "            \n",
    "    return corpus\n",
    "\n",
    "\n",
    "all_corpus = create_corpus(None, df)\n",
    "cor_bu = create_corpus('business', df)\n",
    "cor_tech = create_corpus('tech', df)\n",
    "cor_pol = create_corpus('politics', df)\n",
    "cor_sport = create_corpus('sport', df)\n",
    "cor_ent = create_corpus('entertainment', df)"
   ]
  },
  {
   "cell_type": "code",
   "execution_count": 8,
   "id": "cb0accb3",
   "metadata": {
    "execution": {
     "iopub.execute_input": "2022-04-13T02:02:03.096957Z",
     "iopub.status.busy": "2022-04-13T02:02:03.075908Z",
     "iopub.status.idle": "2022-04-13T02:02:03.321980Z",
     "shell.execute_reply": "2022-04-13T02:02:03.322633Z",
     "shell.execute_reply.started": "2022-04-13T01:07:28.531401Z"
    },
    "papermill": {
     "duration": 0.289492,
     "end_time": "2022-04-13T02:02:03.322843",
     "exception": false,
     "start_time": "2022-04-13T02:02:03.033351",
     "status": "completed"
    },
    "tags": []
   },
   "outputs": [],
   "source": [
    "from nltk.corpus import stopwords\n",
    "stop=set(stopwords.words('english'))\n",
    "\n",
    "counter = Counter(all_corpus)\n",
    "most = counter.most_common()\n",
    "x_0, y_0 = [], []\n",
    "for word,count in most[:80]:\n",
    "    if (word not in stop):\n",
    "        x_0.append(word)\n",
    "        y_0.append(count)\n",
    "\n",
    "counter = Counter(cor_bu)\n",
    "most = counter.most_common()\n",
    "x_1, y_1 = [], []\n",
    "for word,count in most[:60]:\n",
    "    if (word not in stop) :\n",
    "        x_1.append(word)\n",
    "        y_1.append(count)\n",
    "\n",
    "counter = Counter(cor_tech)\n",
    "most = counter.most_common()\n",
    "x_tech, y_tech = [], []\n",
    "for word,count in most[:60]:\n",
    "    if (word not in stop) :\n",
    "        x_tech.append(word)\n",
    "        y_tech.append(count)\n",
    "\n",
    "        \n",
    "counter = Counter(cor_pol)\n",
    "most = counter.most_common()\n",
    "x_pol, y_pol = [], []\n",
    "for word,count in most[:60]:\n",
    "    if (word not in stop) :\n",
    "        x_pol.append(word)\n",
    "        y_pol.append(count)\n",
    "        \n",
    "counter = Counter(cor_sport)\n",
    "most = counter.most_common()\n",
    "x_4, y_4 = [], []\n",
    "for word,count in most[:60]:\n",
    "    if (word not in stop) :\n",
    "        x_4.append(word)\n",
    "        y_4.append(count)\n",
    "        \n",
    "counter = Counter(cor_ent)\n",
    "most = counter.most_common()\n",
    "x_5, y_5 = [], []\n",
    "for word,count in most[:60]:\n",
    "    if (word not in stop) :\n",
    "        x_5.append(word)\n",
    "        y_5.append(count)"
   ]
  },
  {
   "cell_type": "code",
   "execution_count": 9,
   "id": "2879ce82",
   "metadata": {
    "execution": {
     "iopub.execute_input": "2022-04-13T02:02:03.402983Z",
     "iopub.status.busy": "2022-04-13T02:02:03.402312Z",
     "iopub.status.idle": "2022-04-13T02:02:05.042671Z",
     "shell.execute_reply": "2022-04-13T02:02:05.043197Z",
     "shell.execute_reply.started": "2022-04-13T01:07:28.803254Z"
    },
    "papermill": {
     "duration": 1.681432,
     "end_time": "2022-04-13T02:02:05.043373",
     "exception": false,
     "start_time": "2022-04-13T02:02:03.361941",
     "status": "completed"
    },
    "tags": []
   },
   "outputs": [
    {
     "data": {
      "image/png": "[encoded data removed]",
      "text/plain": [
       "<Figure size 720x2304 with 6 Axes>"
      ]
     },
     "metadata": {},
     "output_type": "display_data"
    }
   ],
   "source": [
    "\n",
    "f, axes = plt.subplots(6, 1, figsize=(10,32))\n",
    "sns.barplot(ax=axes[0], x=y_0,y=x_0)\n",
    "axes[0].set_title('Most common words in all articles')\n",
    "\n",
    "sns.barplot(ax=axes[1], x=y_1,y=x_1)\n",
    "axes[1].set_title('Most common words in business articles')\n",
    "\n",
    "sns.barplot(ax=axes[2], x=y_tech,y=x_tech)\n",
    "axes[2].set_title(\"Most common words in tech articles\")\n",
    "\n",
    "sns.barplot(ax=axes[3], x=y_pol,y=x_pol)\n",
    "axes[3].set_title(\"Most common words in pol articles\")\n",
    "\n",
    "sns.barplot(ax=axes[4], x=y_4,y=x_4)\n",
    "axes[4].set_title(\"Most common words in sport articles\")\n",
    "\n",
    "sns.barplot(ax=axes[5], x=y_5,y=x_5)\n",
    "axes[5].set_title(\"Most common words in entertainment articles\")\n",
    "plt.show()"
   ]
  },
  {
   "cell_type": "markdown",
   "id": "219af424",
   "metadata": {
    "papermill": {
     "duration": 0.044029,
     "end_time": "2022-04-13T02:02:05.131082",
     "exception": false,
     "start_time": "2022-04-13T02:02:05.087053",
     "status": "completed"
    },
    "tags": []
   },
   "source": [
    "----"
   ]
  },
  {
   "cell_type": "markdown",
   "id": "f3f36f16",
   "metadata": {
    "papermill": {
     "duration": 0.041393,
     "end_time": "2022-04-13T02:02:05.214688",
     "exception": false,
     "start_time": "2022-04-13T02:02:05.173295",
     "status": "completed"
    },
    "tags": []
   },
   "source": [
    "#### Build word vectors\n",
    "1. Count vectorizer and TF-IDF were used.\n",
    "2. count vector: matrix columns are words appear in all text, and each row indicate article id i contain certain words, if contain the word the row is 1, otherwise 0.\n",
    "\n",
    "2. TF-IDF: This method give vectors importance of related words in document/sentence, unlike bag of words. e.g If a word appear in sentence a lot, TF-IDF will treat it as a common word(a,like, said etc.) and reduce its importance. Here are the formula.\n",
    "\n",
    "TF=term frequency= number of word appear in sentence / number of word in sentence\n",
    "\n",
    "IDF = inverse document frequence = log ( number of sentences in doc / number of sentences contain the word)\n",
    "\n",
    "3. For the result: TF_IDF is slightly better than count vector, in terms of rand score."
   ]
  },
  {
   "cell_type": "code",
   "execution_count": 10,
   "id": "d447fd90",
   "metadata": {
    "execution": {
     "iopub.execute_input": "2022-04-13T02:02:05.302329Z",
     "iopub.status.busy": "2022-04-13T02:02:05.301287Z",
     "iopub.status.idle": "2022-04-13T02:02:07.876525Z",
     "shell.execute_reply": "2022-04-13T02:02:07.875215Z",
     "shell.execute_reply.started": "2022-04-13T01:07:30.523940Z"
    },
    "papermill": {
     "duration": 2.620629,
     "end_time": "2022-04-13T02:02:07.876818",
     "exception": false,
     "start_time": "2022-04-13T02:02:05.256189",
     "status": "completed"
    },
    "tags": []
   },
   "outputs": [
    {
     "name": "stdout",
     "output_type": "stream",
     "text": [
      "(1490, 7115)\n",
      "(1490, 9927)\n",
      "(735, 5306)\n"
     ]
    }
   ],
   "source": [
    "from sklearn.feature_extraction.text import TfidfVectorizer\n",
    "from sklearn.feature_extraction.text import CountVectorizer\n",
    "\n",
    "#count vector\n",
    "vectorizer = CountVectorizer(min_df=5, max_df=0.9, stop_words='english', \n",
    "                            lowercase=True)\n",
    "count_vec = vectorizer.fit_transform(df.Text)\n",
    "print(count_vec.shape)\n",
    "\n",
    "tfidf = TfidfVectorizer(sublinear_tf=True, min_df=5, norm='l2', \n",
    "                        ngram_range=(1,2),stop_words='english')  #unigrams and bigrams\n",
    "\n",
    "#tfidf = TfidfVectorizer(stop_words='english')\n",
    "tfidf_vector = tfidf.fit_transform(df.Text)\n",
    "tfidf_vector_sub = tfidf.fit_transform(df_submit.Text).toarray()\n",
    "\n",
    "#tfidf_vectorizer = TfidfVectorizer()\n",
    "#X_train_tf = tfidf_vectorizer.fit_transform(X_train.values)\n",
    "#X_test_tf = tfidf_vectorizer.fit_transform(X_test)\n",
    "#submit_tf = tfidf_vectorizer.fit_transform(df_submit['Text'])\n",
    "\n",
    "print(tfidf_vector.shape)\n",
    "print(tfidf_vector_sub.shape)"
   ]
  },
  {
   "cell_type": "code",
   "execution_count": 11,
   "id": "604fdb21",
   "metadata": {
    "execution": {
     "iopub.execute_input": "2022-04-13T02:02:07.971930Z",
     "iopub.status.busy": "2022-04-13T02:02:07.971065Z",
     "iopub.status.idle": "2022-04-13T02:02:07.978437Z",
     "shell.execute_reply": "2022-04-13T02:02:07.977853Z",
     "shell.execute_reply.started": "2022-04-13T01:07:33.211240Z"
    },
    "papermill": {
     "duration": 0.05642,
     "end_time": "2022-04-13T02:02:07.978601",
     "exception": false,
     "start_time": "2022-04-13T02:02:07.922181",
     "status": "completed"
    },
    "tags": []
   },
   "outputs": [
    {
     "name": "stdout",
     "output_type": "stream",
     "text": [
      "(1192, 9927)\n",
      "(298, 9927)\n",
      "(298,)\n"
     ]
    }
   ],
   "source": [
    "#vectorizer text \n",
    "\n",
    "# X_train, X_test, y_train, y_test = train_test_split(\n",
    "#     count_vec, df['target'].values, test_size=0.2, random_state=42)\n",
    "\n",
    "\n",
    "X_train, X_test, y_train, y_test = train_test_split(\n",
    "    tfidf_vector, df['target'].values, test_size=0.2, random_state=42)\n",
    "\n",
    "\n",
    "\n",
    "print(X_train.shape)\n",
    "print(X_test.shape)\n",
    "print(y_test.shape)"
   ]
  },
  {
   "cell_type": "code",
   "execution_count": 12,
   "id": "4082d13d",
   "metadata": {
    "execution": {
     "iopub.execute_input": "2022-04-13T02:02:08.073781Z",
     "iopub.status.busy": "2022-04-13T02:02:08.072939Z",
     "iopub.status.idle": "2022-04-13T02:02:15.813323Z",
     "shell.execute_reply": "2022-04-13T02:02:15.814422Z",
     "shell.execute_reply.started": "2022-04-13T01:07:33.223458Z"
    },
    "papermill": {
     "duration": 7.792382,
     "end_time": "2022-04-13T02:02:15.814661",
     "exception": false,
     "start_time": "2022-04-13T02:02:08.022279",
     "status": "completed"
    },
    "tags": []
   },
   "outputs": [
    {
     "name": "stderr",
     "output_type": "stream",
     "text": [
      "/opt/conda/lib/python3.7/site-packages/sklearn/manifold/_t_sne.py:783: FutureWarning: The default initialization in TSNE will change from 'random' to 'pca' in 1.2.\n",
      "  FutureWarning,\n",
      "/opt/conda/lib/python3.7/site-packages/sklearn/manifold/_t_sne.py:793: FutureWarning: The default learning rate in TSNE will change from 200.0 to 'auto' in 1.2.\n",
      "  FutureWarning,\n"
     ]
    },
    {
     "data": {
      "text/plain": [
       "(1341, 2)"
      ]
     },
     "execution_count": 12,
     "metadata": {},
     "output_type": "execute_result"
    }
   ],
   "source": [
    "from sklearn.manifold import TSNE\n",
    "np.random.seed(10)\n",
    "\n",
    "SAMPLE_SIZE = int(tfidf_vector.shape[0] * 0.9)\n",
    "indices = np.random.choice(range(tfidf_vector.shape[0]), size=SAMPLE_SIZE, replace=False)         \n",
    "projected_features = TSNE(n_components=2, random_state=0).fit_transform(tfidf_vector[indices]) \n",
    "projected_features.shape"
   ]
  },
  {
   "cell_type": "code",
   "execution_count": 13,
   "id": "271086ea",
   "metadata": {
    "execution": {
     "iopub.execute_input": "2022-04-13T02:02:15.915879Z",
     "iopub.status.busy": "2022-04-13T02:02:15.915077Z",
     "iopub.status.idle": "2022-04-13T02:02:16.274632Z",
     "shell.execute_reply": "2022-04-13T02:02:16.275151Z",
     "shell.execute_reply.started": "2022-04-13T01:07:40.414424Z"
    },
    "papermill": {
     "duration": 0.414681,
     "end_time": "2022-04-13T02:02:16.275339",
     "exception": false,
     "start_time": "2022-04-13T02:02:15.860658",
     "status": "completed"
    },
    "tags": []
   },
   "outputs": [
    {
     "data": {
      "image/png": "[encoded data removed]",
      "text/plain": [
       "<Figure size 432x288 with 1 Axes>"
      ]
     },
     "metadata": {},
     "output_type": "display_data"
    }
   ],
   "source": [
    "for category, category_id in sorted(id_category_mapping.items()):\n",
    "    points = projected_features[(df.target[indices] == category_id).values]\n",
    "    plt.scatter(points[:, 0], points[:, 1], s=20, label=category)\n",
    "\n",
    "plt.title(\"tf-idf embedding for 5 types of articel\")\n",
    "plt.legend()\n",
    "plt.show()"
   ]
  },
  {
   "cell_type": "markdown",
   "id": "3580d711",
   "metadata": {
    "papermill": {
     "duration": 0.0462,
     "end_time": "2022-04-13T02:02:16.368307",
     "exception": false,
     "start_time": "2022-04-13T02:02:16.322107",
     "status": "completed"
    },
    "tags": []
   },
   "source": [
    "----"
   ]
  },
  {
   "cell_type": "markdown",
   "id": "cb7d4e28",
   "metadata": {
    "papermill": {
     "duration": 0.050713,
     "end_time": "2022-04-13T02:02:16.465395",
     "exception": false,
     "start_time": "2022-04-13T02:02:16.414682",
     "status": "completed"
    },
    "tags": []
   },
   "source": [
    "### Step 2\n",
    "\n",
    "Building and training models\n",
    "\n",
    "**Some thoughts:**\n",
    "1. Since matrix factorization is consider as unsupersived method, durning training we donnot need to worry about model getting the testset label info, in theory, either  include text or not as input matrix is fine for this problem. And I have tried both, the result is without test matrix the rand score is slightly higher(98.1% vs 97.3%).\n",
    "2. Building model using NMF, set n_components=5, and tf-idf matrix is more efficient with KL loss. \n",
    "3. For measuring performances I use 3 metrics, accuarccy, rand score and fowlkes_mallows_score, the later 2 are better for clusting problem, cause we assume doing unsupervise learning, it's without labels.\n",
    "4. Display score as result.\n",
    "5. Improving by fine tunning the model, changing train/test size."
   ]
  },
  {
   "cell_type": "markdown",
   "id": "d2ac0dd9",
   "metadata": {
    "papermill": {
     "duration": 0.045293,
     "end_time": "2022-04-13T02:02:16.557492",
     "exception": false,
     "start_time": "2022-04-13T02:02:16.512199",
     "status": "completed"
    },
    "tags": []
   },
   "source": [
    "\n",
    "##### Non-Negative Matrix Factorization"
   ]
  },
  {
   "cell_type": "code",
   "execution_count": 14,
   "id": "d029b82b",
   "metadata": {
    "execution": {
     "iopub.execute_input": "2022-04-13T02:02:16.655416Z",
     "iopub.status.busy": "2022-04-13T02:02:16.654660Z",
     "iopub.status.idle": "2022-04-13T02:02:18.245745Z",
     "shell.execute_reply": "2022-04-13T02:02:18.246669Z",
     "shell.execute_reply.started": "2022-04-13T01:07:40.775947Z"
    },
    "papermill": {
     "duration": 1.644085,
     "end_time": "2022-04-13T02:02:18.246967",
     "exception": false,
     "start_time": "2022-04-13T02:02:16.602882",
     "status": "completed"
    },
    "tags": []
   },
   "outputs": [
    {
     "name": "stderr",
     "output_type": "stream",
     "text": [
      "/opt/conda/lib/python3.7/site-packages/sklearn/decomposition/_nmf.py:294: FutureWarning: The 'init' value, when 'init=None' and n_components is less than n_samples and n_features, will be changed from 'nndsvd' to 'nndsvda' in 1.1 (renaming of 0.26).\n",
      "  FutureWarning,\n"
     ]
    },
    {
     "name": "stdout",
     "output_type": "stream",
     "text": [
      "CPU times: user 2.13 s, sys: 1.11 s, total: 3.24 s\n",
      "Wall time: 1.58 s\n"
     ]
    },
    {
     "data": {
      "text/plain": [
       "NMF(beta_loss='kullback-leibler', max_iter=500, n_components=5, random_state=10,\n",
       "    solver='mu')"
      ]
     },
     "execution_count": 14,
     "metadata": {},
     "output_type": "execute_result"
    }
   ],
   "source": [
    "%%time \n",
    "from sklearn.decomposition import NMF\n",
    "\n",
    "nmf = NMF(n_components=5, max_iter=500,solver='mu',\n",
    "          beta_loss='kullback-leibler',random_state=10) \n",
    "\n",
    "#nmf.fit(tfidf_vector)\n",
    "nmf.fit(X_train)\n",
    "#H = nmf.components_\n",
    "\n",
    "# print('H',H.shape)\n",
    "# print('W', W.shape)"
   ]
  },
  {
   "cell_type": "code",
   "execution_count": 15,
   "id": "ff9fe358",
   "metadata": {
    "execution": {
     "iopub.execute_input": "2022-04-13T02:02:18.397536Z",
     "iopub.status.busy": "2022-04-13T02:02:18.396635Z",
     "iopub.status.idle": "2022-04-13T02:02:18.630723Z",
     "shell.execute_reply": "2022-04-13T02:02:18.632377Z",
     "shell.execute_reply.started": "2022-04-13T01:07:42.299226Z"
    },
    "papermill": {
     "duration": 0.297323,
     "end_time": "2022-04-13T02:02:18.632761",
     "exception": false,
     "start_time": "2022-04-13T02:02:18.335438",
     "status": "completed"
    },
    "tags": []
   },
   "outputs": [
    {
     "name": "stdout",
     "output_type": "stream",
     "text": [
      "acc: 0.18456375838926176\n",
      "rand score 0.9810634307278603\n",
      "fm score 0.9531897364676524\n"
     ]
    }
   ],
   "source": [
    "#transform test data\n",
    "\n",
    "pred_prob = nmf.transform(X_test)\n",
    "#print(pred_prob.shape)\n",
    "\n",
    "pred_labels = np.argmax(pred_prob, axis=1)\n",
    "\n",
    "\n",
    "print('acc:', accuracy_score(y_test, pred_labels))\n",
    "print('rand score', rand_score(y_test, pred_labels))\n",
    "print('fm score', fowlkes_mallows_score(y_test, pred_labels))"
   ]
  },
  {
   "cell_type": "markdown",
   "id": "7e655871",
   "metadata": {
    "papermill": {
     "duration": 0.052629,
     "end_time": "2022-04-13T02:02:18.779378",
     "exception": false,
     "start_time": "2022-04-13T02:02:18.726749",
     "status": "completed"
    },
    "tags": []
   },
   "source": [
    "##### Latent Dirichlet Allocation"
   ]
  },
  {
   "cell_type": "code",
   "execution_count": 16,
   "id": "3380899c",
   "metadata": {
    "execution": {
     "iopub.execute_input": "2022-04-13T02:02:18.879304Z",
     "iopub.status.busy": "2022-04-13T02:02:18.878545Z",
     "iopub.status.idle": "2022-04-13T02:02:23.253113Z",
     "shell.execute_reply": "2022-04-13T02:02:23.252475Z",
     "shell.execute_reply.started": "2022-04-13T01:07:42.521148Z"
    },
    "papermill": {
     "duration": 4.426182,
     "end_time": "2022-04-13T02:02:23.253275",
     "exception": false,
     "start_time": "2022-04-13T02:02:18.827093",
     "status": "completed"
    },
    "tags": []
   },
   "outputs": [
    {
     "name": "stdout",
     "output_type": "stream",
     "text": [
      "CPU times: user 4.36 s, sys: 1.96 ms, total: 4.37 s\n",
      "Wall time: 4.37 s\n"
     ]
    },
    {
     "data": {
      "text/plain": [
       "LatentDirichletAllocation(n_components=5, random_state=10)"
      ]
     },
     "execution_count": 16,
     "metadata": {},
     "output_type": "execute_result"
    }
   ],
   "source": [
    "%%time\n",
    "# Latent Dirichlet Allocation Model\n",
    "\n",
    "from sklearn.decomposition import LatentDirichletAllocation\n",
    "\n",
    "lda = LatentDirichletAllocation(n_components=5, random_state=10)\n",
    "lda.fit(X_train)\n"
   ]
  },
  {
   "cell_type": "code",
   "execution_count": 17,
   "id": "884362b3",
   "metadata": {
    "execution": {
     "iopub.execute_input": "2022-04-13T02:02:23.355659Z",
     "iopub.status.busy": "2022-04-13T02:02:23.354968Z",
     "iopub.status.idle": "2022-04-13T02:02:23.426823Z",
     "shell.execute_reply": "2022-04-13T02:02:23.426145Z",
     "shell.execute_reply.started": "2022-04-13T01:07:46.931196Z"
    },
    "papermill": {
     "duration": 0.125972,
     "end_time": "2022-04-13T02:02:23.426982",
     "exception": false,
     "start_time": "2022-04-13T02:02:23.301010",
     "status": "completed"
    },
    "tags": []
   },
   "outputs": [
    {
     "name": "stdout",
     "output_type": "stream",
     "text": [
      "acc: 0.18791946308724833\n",
      "rand score 0.7112060199308522\n",
      "fm score 0.5811397573216798\n"
     ]
    }
   ],
   "source": [
    "pred_prob = lda.transform(X_test)\n",
    "\n",
    "\n",
    "pred_labels = np.argmax(pred_prob, axis=1)\n",
    "#print(pred_prob)\n",
    "#print(pred_labels)\n",
    "\n",
    "print('acc:', accuracy_score(y_test, pred_labels))\n",
    "print('rand score', rand_score(y_test, pred_labels))\n",
    "print('fm score', fowlkes_mallows_score(y_test, pred_labels))"
   ]
  },
  {
   "cell_type": "code",
   "execution_count": 18,
   "id": "74ba1756",
   "metadata": {
    "execution": {
     "iopub.execute_input": "2022-04-13T02:02:23.527343Z",
     "iopub.status.busy": "2022-04-13T02:02:23.526594Z",
     "iopub.status.idle": "2022-04-13T02:02:31.995832Z",
     "shell.execute_reply": "2022-04-13T02:02:31.996545Z",
     "shell.execute_reply.started": "2022-04-13T01:07:47.007585Z"
    },
    "papermill": {
     "duration": 8.520998,
     "end_time": "2022-04-13T02:02:31.996740",
     "exception": false,
     "start_time": "2022-04-13T02:02:23.475742",
     "status": "completed"
    },
    "tags": []
   },
   "outputs": [
    {
     "name": "stdout",
     "output_type": "stream",
     "text": [
      "acc: 0.14429530201342283\n",
      "rand score 0.7842406164553816\n",
      "fm score 0.5421081133140944\n",
      "CPU times: user 19.7 s, sys: 13 s, total: 32.7 s\n",
      "Wall time: 8.46 s\n"
     ]
    }
   ],
   "source": [
    "%%time\n",
    "from sklearn.decomposition import FactorAnalysis\n",
    "\n",
    "transformer = FactorAnalysis(n_components=5, random_state=0)\n",
    "transformer.fit(X_train.toarray()) \n",
    "#X_transformed.shape\n",
    "\n",
    "pred_prob = transformer.transform(X_test.toarray())\n",
    "\n",
    "pred_labels = np.argmax(pred_prob, axis=1)\n",
    "#print(pred_prob)\n",
    "pred_labels\n",
    "\n",
    "print('acc:', accuracy_score(y_test, pred_labels))\n",
    "print('rand score', rand_score(y_test, pred_labels))\n",
    "print('fm score', fowlkes_mallows_score(y_test, pred_labels))"
   ]
  },
  {
   "cell_type": "markdown",
   "id": "1e5d50fc",
   "metadata": {
    "papermill": {
     "duration": 0.058169,
     "end_time": "2022-04-13T02:02:32.144606",
     "exception": false,
     "start_time": "2022-04-13T02:02:32.086437",
     "status": "completed"
    },
    "tags": []
   },
   "source": [
    "#### K mean clustering"
   ]
  },
  {
   "cell_type": "code",
   "execution_count": 19,
   "id": "49c9b219",
   "metadata": {
    "execution": {
     "iopub.execute_input": "2022-04-13T02:02:32.250665Z",
     "iopub.status.busy": "2022-04-13T02:02:32.249826Z",
     "iopub.status.idle": "2022-04-13T02:02:32.515179Z",
     "shell.execute_reply": "2022-04-13T02:02:32.515968Z",
     "shell.execute_reply.started": "2022-04-13T01:07:58.137549Z"
    },
    "papermill": {
     "duration": 0.32145,
     "end_time": "2022-04-13T02:02:32.516268",
     "exception": false,
     "start_time": "2022-04-13T02:02:32.194818",
     "status": "completed"
    },
    "tags": []
   },
   "outputs": [
    {
     "name": "stdout",
     "output_type": "stream",
     "text": [
      "(298,)\n",
      "acc: 0.02348993288590604\n",
      "rand score 0.8912390120443812\n",
      "fm score 0.7395847783156247\n"
     ]
    }
   ],
   "source": [
    "from sklearn.cluster import KMeans\n",
    "\n",
    "kmeans = KMeans(n_clusters=5, random_state=0)\n",
    "kmeans.fit(X_test)\n",
    "pred_labels = kmeans.labels_\n",
    "print(pred_labels.shape)\n",
    "\n",
    "print('acc:', accuracy_score(y_test, pred_labels))\n",
    "print('rand score', rand_score(y_test, pred_labels))\n",
    "print('fm score', fowlkes_mallows_score(y_test, pred_labels))"
   ]
  },
  {
   "cell_type": "code",
   "execution_count": 20,
   "id": "158d8713",
   "metadata": {
    "execution": {
     "iopub.execute_input": "2022-04-13T02:02:32.623255Z",
     "iopub.status.busy": "2022-04-13T02:02:32.622493Z",
     "iopub.status.idle": "2022-04-13T02:02:32.964280Z",
     "shell.execute_reply": "2022-04-13T02:02:32.964833Z",
     "shell.execute_reply.started": "2022-04-13T01:07:58.454311Z"
    },
    "papermill": {
     "duration": 0.397839,
     "end_time": "2022-04-13T02:02:32.965015",
     "exception": false,
     "start_time": "2022-04-13T02:02:32.567176",
     "status": "completed"
    },
    "tags": []
   },
   "outputs": [
    {
     "name": "stdout",
     "output_type": "stream",
     "text": [
      "rand score: 0.8912390120443812\n"
     ]
    },
    {
     "data": {
      "image/png": "[encoded data removed]",
      "text/plain": [
       "<Figure size 432x288 with 2 Axes>"
      ]
     },
     "metadata": {},
     "output_type": "display_data"
    }
   ],
   "source": [
    "from sklearn.metrics import confusion_matrix,accuracy_score, rand_score\n",
    "\n",
    "\n",
    "cfm = confusion_matrix(y_test, pred_labels)\n",
    "acc = accuracy_score(y_test, pred_labels)\n",
    "sns.heatmap(cfm, annot=True, linewidths=.5, square = True, cmap = 'Blues_r');\n",
    "plt.ylabel('Actual label');\n",
    "plt.xlabel('Predicted label');\n",
    "all_sample_title = 'Accuracy Score: {0}'.format(acc)\n",
    "plt.title(all_sample_title, size = 15);\n",
    "\n",
    "print('rand score:',rand_score(y_test,  pred_labels))"
   ]
  },
  {
   "cell_type": "markdown",
   "id": "2437fba5",
   "metadata": {
    "papermill": {
     "duration": 0.052215,
     "end_time": "2022-04-13T02:02:33.069388",
     "exception": false,
     "start_time": "2022-04-13T02:02:33.017173",
     "status": "completed"
    },
    "tags": []
   },
   "source": [
    "___"
   ]
  },
  {
   "cell_type": "markdown",
   "id": "c8abe5bd",
   "metadata": {
    "papermill": {
     "duration": 0.050291,
     "end_time": "2022-04-13T02:02:33.171338",
     "exception": false,
     "start_time": "2022-04-13T02:02:33.121047",
     "status": "completed"
    },
    "tags": []
   },
   "source": [
    "### Step 3\n",
    "\n",
    "Compare with supervised learning\n",
    "\n",
    "1. \n",
    "    * logistic regression: train acc: 0.9966, test acc: 0.983  training time 1.75s\n",
    "    * suport vector machine, train acc: 1.0  ,test acc: 0.983 time: 6.1s\n",
    "    * random forest: train 0.985, test:0.96, time 4.5s\n",
    "    * Naive Bayes classifier for multinomial train 0.992, test 0.983, time 15ms\n",
    "\n",
    "2. \n",
    "    * Fix model to svc and try different data size.\n",
    "    * 10% test : train 1.0, test 1.0 acc\n",
    "    * 20% test size: train 1.0, test 0.98\n",
    "    * 50% test size: train 1.0 ,  test  0.98\n",
    "    * multinomial naive bayes is the most data efficeint, has lowest runtime and almost hightest score, and if set random forest max_depth and n_estimators to large will overfit.\n",
    "    "
   ]
  },
  {
   "cell_type": "code",
   "execution_count": 21,
   "id": "0eec0338",
   "metadata": {
    "execution": {
     "iopub.execute_input": "2022-04-13T02:02:33.279463Z",
     "iopub.status.busy": "2022-04-13T02:02:33.278733Z",
     "iopub.status.idle": "2022-04-13T02:02:36.430466Z",
     "shell.execute_reply": "2022-04-13T02:02:36.431346Z",
     "shell.execute_reply.started": "2022-04-13T01:57:24.503323Z"
    },
    "papermill": {
     "duration": 3.210083,
     "end_time": "2022-04-13T02:02:36.431600",
     "exception": false,
     "start_time": "2022-04-13T02:02:33.221517",
     "status": "completed"
    },
    "tags": []
   },
   "outputs": [
    {
     "name": "stdout",
     "output_type": "stream",
     "text": [
      "1.0\n",
      "              precision    recall  f1-score   support\n",
      "\n",
      "           0       0.97      0.98      0.97       171\n",
      "           1       0.98      1.00      0.99       130\n",
      "           2       0.99      0.95      0.97       142\n",
      "           3       0.99      1.00      0.99       164\n",
      "           4       0.96      0.96      0.96       138\n",
      "\n",
      "    accuracy                           0.98       745\n",
      "   macro avg       0.98      0.98      0.98       745\n",
      "weighted avg       0.98      0.98      0.98       745\n",
      "\n",
      "CPU times: user 3.09 s, sys: 7.11 ms, total: 3.1 s\n",
      "Wall time: 3.15 s\n"
     ]
    }
   ],
   "source": [
    "%%time\n",
    "#logistic on TFIDF\n",
    "from sklearn.svm import NuSVC\n",
    "from sklearn.ensemble import RandomForestClassifier\n",
    "from sklearn.pipeline import make_pipeline\n",
    "from sklearn.preprocessing import StandardScaler\n",
    "from sklearn.svm import SVC\n",
    "from sklearn.naive_bayes import MultinomialNB\n",
    "\n",
    "X_train, X_test, y_train, y_test = train_test_split(\n",
    "    tfidf_vector, df['target'].values, test_size=0.5, random_state=42)\n",
    "\n",
    "#clf = linear_model.LogisticRegression()\n",
    "clf = SVC(kernel='rbf',gamma='scale', C=6)\n",
    "#clf = RandomForestClassifier(max_depth=10, n_estimators=1000,random_state=0)\n",
    "#clf = MultinomialNB()\n",
    "\n",
    "\n",
    "#scores = model_selection.cross_val_score(clf, X_train_tf, y_train, cv=3, scoring=\"accuracy\")\n",
    "#scores\n",
    "clf.fit(X_train, y_train)\n",
    "print(clf.score(X_train,y_train))\n",
    "y_pred = clf.predict(X_test)\n",
    "\n",
    "print(classification_report(y_test, y_pred))"
   ]
  },
  {
   "cell_type": "code",
   "execution_count": 22,
   "id": "93718376",
   "metadata": {
    "execution": {
     "iopub.execute_input": "2022-04-13T02:02:36.545913Z",
     "iopub.status.busy": "2022-04-13T02:02:36.545099Z",
     "iopub.status.idle": "2022-04-13T02:02:36.902113Z",
     "shell.execute_reply": "2022-04-13T02:02:36.902699Z",
     "shell.execute_reply.started": "2022-04-13T01:58:01.539825Z"
    },
    "papermill": {
     "duration": 0.416036,
     "end_time": "2022-04-13T02:02:36.902880",
     "exception": false,
     "start_time": "2022-04-13T02:02:36.486844",
     "status": "completed"
    },
    "tags": []
   },
   "outputs": [
    {
     "name": "stdout",
     "output_type": "stream",
     "text": [
      "rand score: 0.9820632171465685\n"
     ]
    },
    {
     "data": {
      "image/png": "[encoded data removed]",
      "text/plain": [
       "<Figure size 432x288 with 2 Axes>"
      ]
     },
     "metadata": {},
     "output_type": "display_data"
    }
   ],
   "source": [
    "from sklearn.metrics import confusion_matrix,accuracy_score, rand_score\n",
    "\n",
    "\n",
    "cfm = confusion_matrix(y_test, y_pred)\n",
    "acc = accuracy_score(y_test, y_pred)\n",
    "sns.heatmap(cfm, annot=True, linewidths=.5, square = True, cmap = 'Blues_r');\n",
    "plt.ylabel('Actual label');\n",
    "plt.xlabel('Predicted label');\n",
    "all_sample_title = 'Accuracy Score: {0}'.format(acc)\n",
    "plt.title(all_sample_title, size = 15);\n",
    "\n",
    "print('rand score:',rand_score(y_test, y_pred))"
   ]
  },
  {
   "cell_type": "code",
   "execution_count": null,
   "id": "35b49d95",
   "metadata": {
    "papermill": {
     "duration": 0.054461,
     "end_time": "2022-04-13T02:02:37.010959",
     "exception": false,
     "start_time": "2022-04-13T02:02:36.956498",
     "status": "completed"
    },
    "tags": []
   },
   "outputs": [],
   "source": []
  },
  {
   "cell_type": "markdown",
   "id": "de7032e1",
   "metadata": {
    "papermill": {
     "duration": 0.05281,
     "end_time": "2022-04-13T02:02:37.116811",
     "exception": false,
     "start_time": "2022-04-13T02:02:37.064001",
     "status": "completed"
    },
    "tags": []
   },
   "source": [
    "-------"
   ]
  },
  {
   "cell_type": "markdown",
   "id": "dd5e5180",
   "metadata": {
    "papermill": {
     "duration": 0.052007,
     "end_time": "2022-04-13T02:02:37.221724",
     "exception": false,
     "start_time": "2022-04-13T02:02:37.169717",
     "status": "completed"
    },
    "tags": []
   },
   "source": [
    "### Step 4\n",
    "\n",
    "Submission and Organized Jupyter Notebook Report"
   ]
  },
  {
   "cell_type": "markdown",
   "id": "9c0ef030",
   "metadata": {
    "papermill": {
     "duration": 0.053943,
     "end_time": "2022-04-13T02:02:37.329525",
     "exception": false,
     "start_time": "2022-04-13T02:02:37.275582",
     "status": "completed"
    },
    "tags": []
   },
   "source": [
    "Github link for the nodebook: https://github.com/carsonxie/Machine-Learning-Projects/tree/main/NLP_News%20Classification%20Project"
   ]
  },
  {
   "cell_type": "markdown",
   "id": "b964c6e7",
   "metadata": {
    "papermill": {
     "duration": 0.052522,
     "end_time": "2022-04-13T02:02:37.434953",
     "exception": false,
     "start_time": "2022-04-13T02:02:37.382431",
     "status": "completed"
    },
    "tags": []
   },
   "source": []
  },
  {
   "cell_type": "markdown",
   "id": "44027939",
   "metadata": {
    "papermill": {
     "duration": 0.052284,
     "end_time": "2022-04-13T02:02:37.539995",
     "exception": false,
     "start_time": "2022-04-13T02:02:37.487711",
     "status": "completed"
    },
    "tags": []
   },
   "source": [
    "Reference: \n",
    "\n",
    "https://towardsdatascience.com/nmf-a-visual-explainer-and-python-implementation-7ecdd73491f8\n",
    "\n",
    "https://www.kaggle.com/code/thebrownviking20/topic-modelling-with-spacy-and-scikit-learn\n",
    "\n",
    "https://www.kaggle.com/code/aryankaul31/aryan-bbc-news-classification"
   ]
  }
 ],
 "metadata": {
  "kernelspec": {
   "display_name": "Python 3",
   "language": "python",
   "name": "python3"
  },
  "language_info": {
   "codemirror_mode": {
    "name": "ipython",
    "version": 3
   },
   "file_extension": ".py",
   "mimetype": "text/x-python",
   "name": "python",
   "nbconvert_exporter": "python",
   "pygments_lexer": "ipython3",
   "version": "3.7.12"
  },
  "papermill": {
   "default_parameters": {},
   "duration": 49.565967,
   "end_time": "2022-04-13T02:02:38.504618",
   "environment_variables": {},
   "exception": null,
   "input_path": "__notebook__.ipynb",
   "output_path": "__notebook__.ipynb",
   "parameters": {},
   "start_time": "2022-04-13T02:01:48.938651",
   "version": "2.3.3"
  }
 },
 "nbformat": 4,
 "nbformat_minor": 5
}
